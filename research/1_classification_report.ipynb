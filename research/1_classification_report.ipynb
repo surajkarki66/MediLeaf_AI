{
  "cells": [
    {
      "cell_type": "markdown",
      "metadata": {
        "id": "XOa_b4O-6o6H"
      },
      "source": [
        "# Ensemble Model"
      ]
    },
    {
      "cell_type": "code",
      "source": [
        "from google.colab import drive\n",
        "drive.mount('/content/drive')"
      ],
      "metadata": {
        "colab": {
          "base_uri": "https://localhost:8080/"
        },
        "id": "tPqnCbxXnoTu",
        "outputId": "2ce1221a-8028-4c91-93e2-8aeff42004f3"
      },
      "execution_count": 1,
      "outputs": [
        {
          "output_type": "stream",
          "name": "stdout",
          "text": [
            "Mounted at /content/drive\n"
          ]
        }
      ]
    },
    {
      "cell_type": "markdown",
      "metadata": {
        "id": "FeGsecU86o6S"
      },
      "source": [
        "## 1. Imports"
      ]
    },
    {
      "cell_type": "code",
      "execution_count": 6,
      "metadata": {
        "id": "WUebhUtx6o6W"
      },
      "outputs": [],
      "source": [
        "import os\n",
        "import numpy as np\n",
        "import zipfile\n",
        "import tensorflow as tf\n",
        "import urllib.request as request\n",
        "\n",
        "from tensorflow.keras.models import Model, load_model\n",
        "from sklearn.metrics import classification_report"
      ]
    },
    {
      "cell_type": "markdown",
      "metadata": {
        "id": "mNIBPsQH6o6Z"
      },
      "source": [
        "## 2. Load already trained model"
      ]
    },
    {
      "cell_type": "code",
      "execution_count": 4,
      "metadata": {
        "id": "-1-2u0_c6o6b"
      },
      "outputs": [],
      "source": [
        "model_mobilenet = load_model('/content/drive/MyDrive/Models/mobilenet.keras')\n",
        "model_mobilenet_v2 = load_model('/content/drive/MyDrive/Models/mobilenetv2.keras')\n",
        "model_nasnetmobile = load_model('/content/drive/MyDrive/Models/nasnetmobile.keras')\n",
        "model_densenet201 = load_model('/content/drive/MyDrive/Models/densenet201.keras')\n",
        "model_inceptionv3 = load_model('/content/drive/MyDrive/Models/inceptionv3.keras')"
      ]
    },
    {
      "cell_type": "markdown",
      "metadata": {
        "id": "mgwashOx6o6r"
      },
      "source": [
        "## 3. Data Preparation"
      ]
    },
    {
      "cell_type": "code",
      "execution_count": 5,
      "metadata": {
        "id": "w6cjtO-t6o68",
        "colab": {
          "base_uri": "https://localhost:8080/"
        },
        "outputId": "593b2eea-0a6a-4869-9fa0-6f5b364e89e8"
      },
      "outputs": [
        {
          "output_type": "stream",
          "name": "stdout",
          "text": [
            "Found 542 images belonging to 30 classes.\n"
          ]
        }
      ],
      "source": [
        "datagenerator_kwargs = dict(\n",
        "    rescale=1./255,\n",
        ")\n",
        "dataflow_kwargs = dict(\n",
        "    target_size=(224,224),\n",
        "    batch_size=32,\n",
        ")\n",
        "test_datagenerator = tf.keras.preprocessing.image.ImageDataGenerator(\n",
        "    **datagenerator_kwargs\n",
        ")\n",
        "test_data_path = os.path.join(\"/content/drive/MyDrive/Datasets\", \"dataset_v2\", \"test\")\n",
        "\n",
        "test_generator = test_datagenerator.flow_from_directory(\n",
        "    directory=test_data_path,\n",
        "    shuffle=False,\n",
        "    **dataflow_kwargs\n",
        ")"
      ]
    },
    {
      "cell_type": "markdown",
      "source": [
        "## 4. Testing"
      ],
      "metadata": {
        "id": "s-Fzw55eHK8g"
      }
    },
    {
      "cell_type": "code",
      "source": [
        "predictions = model_mobilenet.predict(test_generator)\n",
        "predicted_labels = np.argmax(predictions, axis=1)\n",
        "actual_labels = test_generator.classes"
      ],
      "metadata": {
        "colab": {
          "base_uri": "https://localhost:8080/"
        },
        "id": "377mK4l-HHZi",
        "outputId": "5e70a0a2-e26f-439c-86e3-6e16ecd5ccf6"
      },
      "execution_count": 7,
      "outputs": [
        {
          "output_type": "stream",
          "name": "stdout",
          "text": [
            "17/17 [==============================] - 138s 8s/step\n"
          ]
        }
      ]
    },
    {
      "cell_type": "code",
      "source": [
        "target_names = [\n",
        "  \"Alpinia Galanga\",\n",
        "  \"Amaranthus Viridis\",\n",
        "  \"Artocarpus Heterophyllus\",\n",
        "  \"Azadirachta Indica\",\n",
        "  \"Basella Alba\",\n",
        "  \"Brassica Juncea\",\n",
        "  \"Carissa Carandas\",\n",
        "  \"Citrus Limon\",\n",
        "  \"Ficus Auriculata\",\n",
        "  \"Ficus Religiosa\",\n",
        "  \"Hibiscus Rosa-sinensis\",\n",
        "  \"Jasminum\",\n",
        "  \"Mangifera Indica\",\n",
        "  \"Mentha\",\n",
        "  \"Moringa Oleifera\",\n",
        "  \"Muntingia Calabura\",\n",
        "  \"Murraya Koenigii\",\n",
        "  \"Nerium Oleander\",\n",
        "  \"Nyctanthes Arbor-tristis\",\n",
        "  \"Ocimum Tenuiflorum\",\n",
        "  \"Piper Betle\",\n",
        "  \"Plectranthus Amboinicus\",\n",
        "  \"Pongamia Pinnata\",\n",
        "  \"Psidium Guajava\",\n",
        "  \"Punica Granatum\",\n",
        "  \"Santalum Album\",\n",
        "  \"Syzygium Cumini\",\n",
        "  \"Syzygium Jambos\",\n",
        "  \"Tabernaemontana Divaricata\",\n",
        "  \"Trigonella Foenum-graecum\"\n",
        "]"
      ],
      "metadata": {
        "id": "baOSujONI9PB"
      },
      "execution_count": 8,
      "outputs": []
    },
    {
      "cell_type": "code",
      "source": [
        "report = classification_report(actual_labels, predicted_labels, target_names=target_names, output_dict=True)"
      ],
      "metadata": {
        "id": "uyVO9IIiJDXA"
      },
      "execution_count": 9,
      "outputs": []
    },
    {
      "cell_type": "code",
      "source": [
        "import json\n",
        "path = \"./mobilenet_report.json\"\n",
        "with open(path, \"w\") as f:\n",
        "    json.dump(report, f, indent=4)"
      ],
      "metadata": {
        "id": "55N-5e7WJHvg"
      },
      "execution_count": 10,
      "outputs": []
    },
    {
      "cell_type": "code",
      "source": [
        "predictions = model_mobilenet_v2.predict(test_generator)\n",
        "predicted_labels = np.argmax(predictions, axis=1)\n",
        "actual_labels = test_generator.classes"
      ],
      "metadata": {
        "colab": {
          "base_uri": "https://localhost:8080/"
        },
        "id": "Xt548IsaJPEo",
        "outputId": "23ccc193-056e-4b1b-82b5-6783e41f5248"
      },
      "execution_count": 11,
      "outputs": [
        {
          "output_type": "stream",
          "name": "stdout",
          "text": [
            "17/17 [==============================] - 30s 2s/step\n"
          ]
        }
      ]
    },
    {
      "cell_type": "code",
      "source": [
        "report = classification_report(actual_labels, predicted_labels, target_names=target_names, output_dict=True)"
      ],
      "metadata": {
        "id": "Z1aS8vjEJbIo"
      },
      "execution_count": 12,
      "outputs": []
    },
    {
      "cell_type": "code",
      "source": [
        "import json\n",
        "path = \"./mobilenetv2_report.json\"\n",
        "with open(path, \"w\") as f:\n",
        "    json.dump(report, f, indent=4)"
      ],
      "metadata": {
        "id": "rXllNrAcJdj2"
      },
      "execution_count": 13,
      "outputs": []
    },
    {
      "cell_type": "code",
      "source": [
        "predictions = model_nasnetmobile.predict(test_generator)\n",
        "predicted_labels = np.argmax(predictions, axis=1)\n",
        "actual_labels = test_generator.classes"
      ],
      "metadata": {
        "colab": {
          "base_uri": "https://localhost:8080/"
        },
        "id": "nwiCVUeLJgUG",
        "outputId": "75147ece-b49a-4725-b8d5-d9e1a6455a20"
      },
      "execution_count": 14,
      "outputs": [
        {
          "output_type": "stream",
          "name": "stdout",
          "text": [
            "17/17 [==============================] - 72s 3s/step\n"
          ]
        }
      ]
    },
    {
      "cell_type": "code",
      "source": [
        "report = classification_report(actual_labels, predicted_labels, target_names=target_names, output_dict=True)"
      ],
      "metadata": {
        "id": "oy1ws1cCLF1L"
      },
      "execution_count": 15,
      "outputs": []
    },
    {
      "cell_type": "code",
      "source": [
        "import json\n",
        "path = \"./nasnetmobile_report.json\"\n",
        "with open(path, \"w\") as f:\n",
        "    json.dump(report, f, indent=4)"
      ],
      "metadata": {
        "id": "WhMHewB3LIRQ"
      },
      "execution_count": 16,
      "outputs": []
    },
    {
      "cell_type": "code",
      "source": [
        "predictions = model_densenet201.predict(test_generator)\n",
        "predicted_labels = np.argmax(predictions, axis=1)\n",
        "actual_labels = test_generator.classes"
      ],
      "metadata": {
        "colab": {
          "base_uri": "https://localhost:8080/"
        },
        "id": "Yj4P9jseLNls",
        "outputId": "d6795e8d-f8d5-4ef9-c083-3bf97a900e78"
      },
      "execution_count": 17,
      "outputs": [
        {
          "output_type": "stream",
          "name": "stdout",
          "text": [
            "17/17 [==============================] - 209s 11s/step\n"
          ]
        }
      ]
    },
    {
      "cell_type": "code",
      "source": [
        "report = classification_report(actual_labels, predicted_labels, target_names=target_names, output_dict=True)"
      ],
      "metadata": {
        "id": "RFNuba9OMokp"
      },
      "execution_count": 18,
      "outputs": []
    },
    {
      "cell_type": "code",
      "source": [
        "import json\n",
        "path = \"./densenet201_report.json\"\n",
        "with open(path, \"w\") as f:\n",
        "    json.dump(report, f, indent=4)"
      ],
      "metadata": {
        "id": "Uhl8yervMttS"
      },
      "execution_count": 19,
      "outputs": []
    },
    {
      "cell_type": "code",
      "source": [
        "predictions = model_inceptionv3.predict(test_generator)\n",
        "predicted_labels = np.argmax(predictions, axis=1)\n",
        "actual_labels = test_generator.classes"
      ],
      "metadata": {
        "colab": {
          "base_uri": "https://localhost:8080/"
        },
        "id": "lz-L9yfaM6Jn",
        "outputId": "86a5fad4-dac7-474b-8a5a-c5b05ae945f6"
      },
      "execution_count": 20,
      "outputs": [
        {
          "output_type": "stream",
          "name": "stdout",
          "text": [
            "17/17 [==============================] - 77s 4s/step\n"
          ]
        }
      ]
    },
    {
      "cell_type": "code",
      "source": [
        "import json\n",
        "path = \"./inceptionv3_report.json\"\n",
        "with open(path, \"w\") as f:\n",
        "    json.dump(report, f, indent=4)"
      ],
      "metadata": {
        "id": "yTmkMXZaNCq0"
      },
      "execution_count": 21,
      "outputs": []
    },
    {
      "cell_type": "code",
      "source": [],
      "metadata": {
        "id": "h2_C7Q9VNT6x"
      },
      "execution_count": null,
      "outputs": []
    }
  ],
  "metadata": {
    "kernelspec": {
      "display_name": "base",
      "language": "python",
      "name": "python3"
    },
    "language_info": {
      "codemirror_mode": {
        "name": "ipython",
        "version": 3
      },
      "file_extension": ".py",
      "mimetype": "text/x-python",
      "name": "python",
      "nbconvert_exporter": "python",
      "pygments_lexer": "ipython3",
      "version": "3.11.7"
    },
    "colab": {
      "provenance": []
    }
  },
  "nbformat": 4,
  "nbformat_minor": 0
}