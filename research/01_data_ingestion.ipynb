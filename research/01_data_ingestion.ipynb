{
 "cells": [
  {
   "cell_type": "code",
   "execution_count": 1,
   "metadata": {},
   "outputs": [],
   "source": [
    "import os"
   ]
  },
  {
   "cell_type": "code",
   "execution_count": 2,
   "metadata": {},
   "outputs": [
    {
     "data": {
      "text/plain": [
       "'/home/surajkarki/Documents/My-Workspace/My-Work/Final-Year-Project/MediLeaf_AI/research'"
      ]
     },
     "execution_count": 2,
     "metadata": {},
     "output_type": "execute_result"
    }
   ],
   "source": [
    "%pwd"
   ]
  },
  {
   "cell_type": "code",
   "execution_count": null,
   "metadata": {},
   "outputs": [],
   "source": [
    "os.chdir(\"../\")"
   ]
  },
  {
   "cell_type": "code",
   "execution_count": 4,
   "metadata": {},
   "outputs": [
    {
     "data": {
      "text/plain": [
       "'/home/surajkarki/Documents/My-Workspace/My-Work/Final-Year-Project/MediLeaf_AI'"
      ]
     },
     "execution_count": 4,
     "metadata": {},
     "output_type": "execute_result"
    }
   ],
   "source": [
    "%pwd"
   ]
  },
  {
   "cell_type": "code",
   "execution_count": 5,
   "metadata": {},
   "outputs": [],
   "source": [
    "from dataclasses import dataclass\n",
    "from pathlib import Path\n",
    "\n",
    "\n",
    "@dataclass(frozen=True)\n",
    "class DataIngestionConfig:\n",
    "    root_dir: Path\n",
    "    source_URL: str\n",
    "    local_data_file: Path\n",
    "    unzip_dir: Path"
   ]
  },
  {
   "cell_type": "code",
   "execution_count": 6,
   "metadata": {},
   "outputs": [],
   "source": [
    "from Medileaf_AI.constants import *\n",
    "from Medileaf_AI.utils.common import read_yaml, create_directories"
   ]
  },
  {
   "cell_type": "code",
   "execution_count": 7,
   "metadata": {},
   "outputs": [],
   "source": [
    "class ConfigurationManager:\n",
    "    def __init__(\n",
    "        self,\n",
    "        config_filepath = CONFIG_FILE_PATH,\n",
    "        params_filepath = PARAMS_FILE_PATH):\n",
    "\n",
    "        self.config = read_yaml(config_filepath)\n",
    "        self.params = read_yaml(params_filepath)\n",
    "\n",
    "        create_directories([self.config.artifacts_root])\n",
    "\n",
    "\n",
    "    \n",
    "    def get_data_ingestion_config(self) -> DataIngestionConfig:\n",
    "        config = self.config.data_ingestion\n",
    "\n",
    "        create_directories([config.root_dir])\n",
    "\n",
    "        data_ingestion_config = DataIngestionConfig(\n",
    "            root_dir=config.root_dir,\n",
    "            source_URL=config.source_URL,\n",
    "            local_data_file=config.local_data_file,\n",
    "            unzip_dir=config.unzip_dir \n",
    "        )\n",
    "\n",
    "        return data_ingestion_config     "
   ]
  },
  {
   "cell_type": "code",
   "execution_count": 8,
   "metadata": {},
   "outputs": [],
   "source": [
    "import os\n",
    "import urllib.request as request\n",
    "import zipfile\n",
    "from Medileaf_AI import logger\n",
    "from Medileaf_AI.utils.common import get_size"
   ]
  },
  {
   "cell_type": "code",
   "execution_count": 9,
   "metadata": {},
   "outputs": [],
   "source": [
    "class DataIngestion:\n",
    "    def __init__(self, config: DataIngestionConfig):\n",
    "        self.config = config\n",
    "\n",
    "\n",
    "    \n",
    "    def download_file(self):\n",
    "        if not os.path.exists(self.config.local_data_file):\n",
    "            filename, headers = request.urlretrieve(\n",
    "                url = self.config.source_URL,\n",
    "                filename = self.config.local_data_file\n",
    "            )\n",
    "            logger.info(f\"{filename} download! with following info: \\n{headers}\")\n",
    "        else:\n",
    "            logger.info(f\"File already exists of size: {get_size(Path(self.config.local_data_file))}\")  \n",
    "\n",
    "\n",
    "    \n",
    "    def extract_zip_file(self):\n",
    "        \"\"\"\n",
    "        zip_file_path: str\n",
    "        Extracts the zip file into the data directory\n",
    "        Function returns None\n",
    "        \"\"\"\n",
    "        unzip_path = self.config.unzip_dir\n",
    "        os.makedirs(unzip_path, exist_ok=True)\n",
    "        with zipfile.ZipFile(self.config.local_data_file, 'r') as zip_ref:\n",
    "            zip_ref.extractall(unzip_path)"
   ]
  },
  {
   "cell_type": "code",
   "execution_count": 10,
   "metadata": {},
   "outputs": [
    {
     "name": "stdout",
     "output_type": "stream",
     "text": [
      "[2023-06-17 21:45:11,348: INFO: common: yaml file: config/config.yaml loaded successfully]\n",
      "[2023-06-17 21:45:11,355: INFO: common: yaml file: params.yaml loaded successfully]\n",
      "[2023-06-17 21:45:11,356: INFO: common: created directory at: artifacts]\n",
      "[2023-06-17 21:45:11,358: INFO: common: created directory at: artifacts/data_ingestion]\n",
      "[2023-06-17 21:45:12,016: INFO: 4037744573: artifacts/data_ingestion/data.zip download! with following info: \n",
      "Date: Sat, 17 Jun 2023 16:00:11 GMT\n",
      "Content-Type: application/zip\n",
      "Content-Length: 152\n",
      "Connection: close\n",
      "Cache-Control: max-age=60, public, must-revalidate, stale-while-revalidate=60, stale-if-error=300, s-maxage=60\n",
      "Content-Disposition: attachment; filename=\"data.zip\"; filename*=UTF-8''data.zip\n",
      "Content-Security-Policy: base-uri 'self'; child-src https://www.google.com/recaptcha/ https://www.recaptcha.net/ https://content.googleapis.com https://content-compute.googleapis.com https://content-cloudbilling.googleapis.com https://content-cloudresourcemanager.googleapis.com https://www.googletagmanager.com/ns.html https://*.zuora.com/apps/PublicHostedPageLite.do https://gitlab.com/admin/ https://gitlab.com/assets/ https://gitlab.com/-/speedscope/index.html https://gitlab.com/-/sandbox/ https://gitlab.com/assets/ blob: data:; connect-src 'self' https://gitlab.com wss://gitlab.com https://sentry.gitlab.net https://new-sentry.gitlab.net https://customers.gitlab.com https://snowplow.trx.gitlab.net https://sourcegraph.com snowplow.trx.gitlab.net; default-src 'self'; font-src 'self'; frame-ancestors 'self'; frame-src 'self' https://www.google.com/recaptcha/ https://www.recaptcha.net/ https://content.googleapis.com https://content-cloudresourcemanager.googleapis.com https://content-compute.googleapis.com https://content-cloudbilling.googleapis.com https://*.codesandbox.io https://customers.gitlab.com https://*.zuora.com/apps/PublicHostedPageLite.do; img-src * data: blob:; manifest-src 'self'; media-src 'self' data: blob: http: https:; object-src 'none'; report-uri https://sentry.gitlab.net/api/105/security/?sentry_key=a42ea3adc19140d9a6424906e12fba86; script-src 'strict-dynamic' 'self' 'unsafe-inline' 'unsafe-eval' https://www.google.com/recaptcha/ https://www.gstatic.com/recaptcha/ https://www.recaptcha.net/ https://apis.google.com https://*.zuora.com/apps/PublicHostedPageLite.do 'nonce-LJI2shrSFwo6RbYc9TiB4g=='; style-src 'self' 'unsafe-inline'; worker-src https://gitlab.com blob: data:; form-action 'self' https: http: http: http:\n",
      "Etag: \"5053b73cdfde52496576cc5e24057c07\"\n",
      "Last-Modified: Sat, 17 Jun 2023 15:58:36 GMT\n",
      "Permissions-Policy: interest-cohort=()\n",
      "Referrer-Policy: strict-origin-when-cross-origin\n",
      "X-Content-Type-Options: nosniff\n",
      "X-Download-Options: noopen\n",
      "X-Frame-Options: SAMEORIGIN\n",
      "X-Gitlab-Meta: {\"correlation_id\":\"01H3519VF1M57YJMR206A7BFYJ\",\"version\":\"1\"}\n",
      "X-Goog-Generation: 1687017516539222\n",
      "X-Goog-Hash: crc32c=kiHFcw==\n",
      "X-Goog-Hash: md5=UFO3PN/eUklldsxeJAV8Bw==\n",
      "X-Goog-Metageneration: 1\n",
      "X-Goog-Storage-Class: MULTI_REGIONAL\n",
      "X-Goog-Stored-Content-Encoding: identity\n",
      "X-Goog-Stored-Content-Length: 152\n",
      "X-Guploader-Uploadid: ADPycduWI1obJ_gcj0Ic34Dg_pGxqI3d5L9JaPAQn2oiLgG8Wc-9fnFG6ZKCAYlhwyzdcYv84TxZEf4j3gOUR8pioqe7hUaHV11z\n",
      "X-Permitted-Cross-Domain-Policies: none\n",
      "X-Request-Id: 01H3519VF1M57YJMR206A7BFYJ\n",
      "X-Runtime: 0.128127\n",
      "X-Ua-Compatible: IE=edge\n",
      "X-Xss-Protection: 1; mode=block\n",
      "GitLab-LB: fe-05-lb-gprd\n",
      "GitLab-SV: web-gke-us-east1-d\n",
      "CF-Cache-Status: REVALIDATED\n",
      "Accept-Ranges: bytes\n",
      "Report-To: {\"endpoints\":[{\"url\":\"https:\\/\\/a.nel.cloudflare.com\\/report\\/v3?s=f7Ew5ZeNmhdf5d4wArh%2FdycN4u02aPaEZsR4Pl0AEhSJv6vW1xymFr%2F5z2JL5F7JsSXmz5F65Cg6QgAjcHzeLBEbhWq6jg3IxJsnivNkofb84nUKcQTQ3DitjUc%3D\"}],\"group\":\"cf-nel\",\"max_age\":604800}\n",
      "NEL: {\"success_fraction\":0.01,\"report_to\":\"cf-nel\",\"max_age\":604800}\n",
      "Vary: Accept-Encoding\n",
      "Strict-Transport-Security: max-age=31536000\n",
      "Set-Cookie: _cfuvid=kEQYjSvyQ2GZQ5z79zCI6COgpsA.IbIyaLGePhxCk0E-1687017611975-0-604800000; path=/; domain=.gitlab.com; HttpOnly; Secure; SameSite=None\n",
      "Server: cloudflare\n",
      "CF-RAY: 7d8c81082e739885-KTM\n",
      "\n",
      "]\n"
     ]
    }
   ],
   "source": [
    "try:\n",
    "    config = ConfigurationManager()\n",
    "    data_ingestion_config = config.get_data_ingestion_config()\n",
    "    data_ingestion = DataIngestion(config=data_ingestion_config)\n",
    "    data_ingestion.download_file()\n",
    "    data_ingestion.extract_zip_file()\n",
    "except Exception as e:\n",
    "    raise e"
   ]
  }
 ],
 "metadata": {
  "kernelspec": {
   "display_name": "medileaf",
   "language": "python",
   "name": "python3"
  },
  "language_info": {
   "codemirror_mode": {
    "name": "ipython",
    "version": 3
   },
   "file_extension": ".py",
   "mimetype": "text/x-python",
   "name": "python",
   "nbconvert_exporter": "python",
   "pygments_lexer": "ipython3",
   "version": "3.8.16"
  },
  "orig_nbformat": 4
 },
 "nbformat": 4,
 "nbformat_minor": 2
}
